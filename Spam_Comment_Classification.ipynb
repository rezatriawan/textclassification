{
  "nbformat": 4,
  "nbformat_minor": 0,
  "metadata": {
    "colab": {
      "name": "Comment Spam.ipynb",
      "provenance": [],
      "collapsed_sections": [],
      "toc_visible": true
    },
    "kernelspec": {
      "name": "python3",
      "display_name": "Python 3"
    }
  },
  "cells": [
    {
      "cell_type": "markdown",
      "metadata": {
        "id": "K0Rvxe-S-9S_"
      },
      "source": [
        "# News Title Classification"
      ]
    },
    {
      "cell_type": "markdown",
      "metadata": {
        "id": "3COMfi0G_l5Q"
      },
      "source": [
        "## Importing The Libraries"
      ]
    },
    {
      "cell_type": "code",
      "metadata": {
        "id": "7U0oQkIi_Ecm"
      },
      "source": [
        "#Importing libraries\n",
        "import pandas as pd\n",
        "import numpy as np\n",
        "import matplotlib.pyplot as plt\n",
        "import seaborn as sns"
      ],
      "execution_count": 6,
      "outputs": []
    },
    {
      "cell_type": "markdown",
      "metadata": {
        "id": "2Vm6gXwZALbl"
      },
      "source": [
        "## Importing the Dataset"
      ]
    },
    {
      "cell_type": "code",
      "metadata": {
        "id": "CIQEp4LP_6mn",
        "outputId": "294495a3-36f2-43dd-c477-5df6067181a3",
        "colab": {
          "base_uri": "https://localhost:8080/",
          "height": 204
        }
      },
      "source": [
        "#Importing dataset\n",
        "comment_spam = pd.read_excel('drive/My Drive/Comment Spam.xls')\n",
        "comment_spam.head()"
      ],
      "execution_count": 7,
      "outputs": [
        {
          "output_type": "execute_result",
          "data": {
            "text/html": [
              "<div>\n",
              "<style scoped>\n",
              "    .dataframe tbody tr th:only-of-type {\n",
              "        vertical-align: middle;\n",
              "    }\n",
              "\n",
              "    .dataframe tbody tr th {\n",
              "        vertical-align: top;\n",
              "    }\n",
              "\n",
              "    .dataframe thead th {\n",
              "        text-align: right;\n",
              "    }\n",
              "</style>\n",
              "<table border=\"1\" class=\"dataframe\">\n",
              "  <thead>\n",
              "    <tr style=\"text-align: right;\">\n",
              "      <th></th>\n",
              "      <th>No</th>\n",
              "      <th>Comment</th>\n",
              "      <th>Class</th>\n",
              "    </tr>\n",
              "  </thead>\n",
              "  <tbody>\n",
              "    <tr>\n",
              "      <th>0</th>\n",
              "      <td>1</td>\n",
              "      <td>this song is racist</td>\n",
              "      <td>0</td>\n",
              "    </tr>\n",
              "    <tr>\n",
              "      <th>1</th>\n",
              "      <td>2</td>\n",
              "      <td>and how many subscribers compared to her over ...</td>\n",
              "      <td>1</td>\n",
              "    </tr>\n",
              "    <tr>\n",
              "      <th>2</th>\n",
              "      <td>3</td>\n",
              "      <td>HI! CHECK OUT OUR AWESOME COVERS! AND SAY WHAT...</td>\n",
              "      <td>1</td>\n",
              "    </tr>\n",
              "    <tr>\n",
              "      <th>3</th>\n",
              "      <td>4</td>\n",
              "      <td>well done shakira</td>\n",
              "      <td>0</td>\n",
              "    </tr>\n",
              "    <tr>\n",
              "      <th>4</th>\n",
              "      <td>5</td>\n",
              "      <td>:D subscribe to me for daily vines</td>\n",
              "      <td>1</td>\n",
              "    </tr>\n",
              "  </tbody>\n",
              "</table>\n",
              "</div>"
            ],
            "text/plain": [
              "   No                                            Comment  Class\n",
              "0   1                                this song is racist      0\n",
              "1   2  and how many subscribers compared to her over ...      1\n",
              "2   3  HI! CHECK OUT OUR AWESOME COVERS! AND SAY WHAT...      1\n",
              "3   4                                  well done shakira      0\n",
              "4   5                 :D subscribe to me for daily vines      1"
            ]
          },
          "metadata": {
            "tags": []
          },
          "execution_count": 7
        }
      ]
    },
    {
      "cell_type": "markdown",
      "metadata": {
        "id": "Yw1lf7QANEeT"
      },
      "source": [
        "# Exploratory Data Analysis"
      ]
    },
    {
      "cell_type": "code",
      "metadata": {
        "id": "5BHkp8eV6195",
        "outputId": "f8c751c4-8cef-472b-dc2c-a8b5ad28f1ca",
        "colab": {
          "base_uri": "https://localhost:8080/",
          "height": 85
        }
      },
      "source": [
        "#Checking Missing Values\n",
        "comment_spam.isnull().sum()"
      ],
      "execution_count": 8,
      "outputs": [
        {
          "output_type": "execute_result",
          "data": {
            "text/plain": [
              "No         0\n",
              "Comment    0\n",
              "Class      0\n",
              "dtype: int64"
            ]
          },
          "metadata": {
            "tags": []
          },
          "execution_count": 8
        }
      ]
    },
    {
      "cell_type": "code",
      "metadata": {
        "id": "i6LjzwxhOmMO",
        "outputId": "47b5a942-019f-45c9-84e5-46da74d06d32",
        "colab": {
          "base_uri": "https://localhost:8080/",
          "height": 726
        }
      },
      "source": [
        "#Plotting graph for category column\n",
        "fig, axs = plt.subplots(2, 1, figsize=(16,12))\n",
        "sns.countplot(x='Class', data=comment_spam, ax=axs[1])"
      ],
      "execution_count": 9,
      "outputs": [
        {
          "output_type": "execute_result",
          "data": {
            "text/plain": [
              "<matplotlib.axes._subplots.AxesSubplot at 0x7fca1c23d080>"
            ]
          },
          "metadata": {
            "tags": []
          },
          "execution_count": 9
        },
        {
          "output_type": "display_data",
          "data": {
            "image/png": "[encoded data removed]",
            "text/plain": [
              "<Figure size 1152x864 with 2 Axes>"
            ]
          },
          "metadata": {
            "tags": [],
            "needs_background": "light"
          }
        }
      ]
    },
    {
      "cell_type": "markdown",
      "metadata": {
        "id": "pEqAZ6oiCHn5"
      },
      "source": [
        "## Cleaning The Texts"
      ]
    },
    {
      "cell_type": "code",
      "metadata": {
        "id": "iEHhjRcQdLii"
      },
      "source": [
        "import re\n",
        "import nltk\n",
        "from nltk.corpus import stopwords\n",
        "from nltk.stem import WordNetLemmatizer\n",
        "from sklearn.feature_extraction.text import TfidfVectorizer\n",
        "from sklearn.model_selection import train_test_split\n",
        "from sklearn.feature_selection import chi2"
      ],
      "execution_count": 10,
      "outputs": []
    },
    {
      "cell_type": "code",
      "metadata": {
        "id": "6z_zKgndGLGF",
        "outputId": "f7c4d8c7-ed98-44dd-cb65-9a6d4ea1cc24",
        "colab": {
          "base_uri": "https://localhost:8080/",
          "height": 221
        }
      },
      "source": [
        "print(comment_spam['Comment'])"
      ],
      "execution_count": 11,
      "outputs": [
        {
          "output_type": "stream",
          "text": [
            "0                                     this song is racist\n",
            "1       and how many subscribers compared to her over ...\n",
            "2       HI! CHECK OUT OUR AWESOME COVERS! AND SAY WHAT...\n",
            "3                                       well done shakira\n",
            "4                      :D subscribe to me for daily vines\n",
            "                              ...                        \n",
            "1295                                        Awsome<br />﻿\n",
            "1296                  https://www.tsu.co/KodysMan plz ^^﻿\n",
            "1297    Sign up for free on TSU and start making money...\n",
            "1298    MEGAN FOX AND EMINEM TOGETHER IN A VIDEO  DOES...\n",
            "1299                                Great.This is a song﻿\n",
            "Name: Comment, Length: 1300, dtype: object\n"
          ],
          "name": "stdout"
        }
      ]
    },
    {
      "cell_type": "code",
      "metadata": {
        "id": "YkBfpYfRbNog"
      },
      "source": [
        "#Lowering letters from the comment\n",
        "comment_spam['Comment_Parsed_1'] = comment_spam['Comment'].str.lower()"
      ],
      "execution_count": 12,
      "outputs": []
    },
    {
      "cell_type": "code",
      "metadata": {
        "id": "MHXy42tzbuy-"
      },
      "source": [
        "#Removing punctuation\n",
        "punctuation_signs = list('?:!.,;')\n",
        "comment_spam['Comment_Parsed_2'] = comment_spam['Comment_Parsed_1']\n",
        "\n",
        "for punct_sign in punctuation_signs:\n",
        "    comment_spam['Comment_Parsed_2'] = comment_spam['Comment_Parsed_2'].str.replace(punct_sign, '')"
      ],
      "execution_count": 13,
      "outputs": []
    },
    {
      "cell_type": "code",
      "metadata": {
        "id": "T_KVtfqvbu9Z"
      },
      "source": [
        "#Removing 's\n",
        "comment_spam['Comment_Parsed_3'] = comment_spam['Comment_Parsed_2'].str.replace(\"'s\", \"\")"
      ],
      "execution_count": 14,
      "outputs": []
    },
    {
      "cell_type": "code",
      "metadata": {
        "id": "xEUiZsy1bvjj",
        "outputId": "09c016fb-d8d6-4a16-9c87-a98fa8752396",
        "colab": {
          "base_uri": "https://localhost:8080/",
          "height": 102
        }
      },
      "source": [
        "# Downloading punkt and wordnet from NLTK\n",
        "nltk.download('punkt')\n",
        "nltk.download('wordnet')"
      ],
      "execution_count": 15,
      "outputs": [
        {
          "output_type": "stream",
          "text": [
            "[nltk_data] Downloading package punkt to /root/nltk_data...\n",
            "[nltk_data]   Unzipping tokenizers/punkt.zip.\n",
            "[nltk_data] Downloading package wordnet to /root/nltk_data...\n",
            "[nltk_data]   Unzipping corpora/wordnet.zip.\n"
          ],
          "name": "stdout"
        },
        {
          "output_type": "execute_result",
          "data": {
            "text/plain": [
              "True"
            ]
          },
          "metadata": {
            "tags": []
          },
          "execution_count": 15
        }
      ]
    },
    {
      "cell_type": "code",
      "metadata": {
        "id": "M_0qUnVibu6I"
      },
      "source": [
        "# Saving the lemmatizer into an object\n",
        "wordnet_lemmatizer = WordNetLemmatizer()"
      ],
      "execution_count": 16,
      "outputs": []
    },
    {
      "cell_type": "code",
      "metadata": {
        "id": "yHDbYQGqdOeJ"
      },
      "source": [
        "nrows = len(comment_spam)\n",
        "lemmatized_text_list = []\n",
        "\n",
        "for row in range(0, nrows):\n",
        "    \n",
        "    # Create an empty list containing lemmatized words\n",
        "    lemmatized_list = []\n",
        "    \n",
        "    # Save the text and its words into an object\n",
        "    text = comment_spam.loc[row]['Comment_Parsed_3']\n",
        "    text_words = text.split(\" \")\n",
        "\n",
        "    # Iterate through every word to lemmatize\n",
        "    for word in text_words:\n",
        "        lemmatized_list.append(wordnet_lemmatizer.lemmatize(word, pos=\"v\"))\n",
        "        \n",
        "    # Join the list\n",
        "    lemmatized_text = \" \".join(lemmatized_list)\n",
        "    \n",
        "    # Append to the list containing the texts    \n",
        "    lemmatized_text_list.append(lemmatized_text)"
      ],
      "execution_count": 17,
      "outputs": []
    },
    {
      "cell_type": "code",
      "metadata": {
        "id": "nMwiruxOdOuu"
      },
      "source": [
        "comment_spam['Comment_Parsed_4'] = lemmatized_text_list"
      ],
      "execution_count": 18,
      "outputs": []
    },
    {
      "cell_type": "code",
      "metadata": {
        "id": "E5YmFpsVdPRD",
        "outputId": "67305329-371b-43ec-c585-5c793ec41078",
        "colab": {
          "base_uri": "https://localhost:8080/",
          "height": 68
        }
      },
      "source": [
        "# Downloading the stop words list\n",
        "nltk.download('stopwords')"
      ],
      "execution_count": 19,
      "outputs": [
        {
          "output_type": "stream",
          "text": [
            "[nltk_data] Downloading package stopwords to /root/nltk_data...\n",
            "[nltk_data]   Unzipping corpora/stopwords.zip.\n"
          ],
          "name": "stdout"
        },
        {
          "output_type": "execute_result",
          "data": {
            "text/plain": [
              "True"
            ]
          },
          "metadata": {
            "tags": []
          },
          "execution_count": 19
        }
      ]
    },
    {
      "cell_type": "code",
      "metadata": {
        "id": "KdpaobZcbuv6"
      },
      "source": [
        "# Loading the stop words in english\n",
        "stop_words = list(stopwords.words('english'))\n"
      ],
      "execution_count": 20,
      "outputs": []
    },
    {
      "cell_type": "code",
      "metadata": {
        "id": "C0lYhJVpbutQ",
        "outputId": "70028cdf-8b96-4736-96fa-a7776cca7293",
        "colab": {
          "base_uri": "https://localhost:8080/",
          "height": 35
        }
      },
      "source": [
        "example = \"me eating a meal\"\n",
        "word = \"me\"\n",
        "\n",
        "# The regular expression is:\n",
        "regex = r\"\\b\" + word + r\"\\b\"\n",
        "\n",
        "re.sub(regex, \"StopWord\", example)"
      ],
      "execution_count": 21,
      "outputs": [
        {
          "output_type": "execute_result",
          "data": {
            "application/vnd.google.colaboratory.intrinsic+json": {
              "type": "string"
            },
            "text/plain": [
              "'StopWord eating a meal'"
            ]
          },
          "metadata": {
            "tags": []
          },
          "execution_count": 21
        }
      ]
    },
    {
      "cell_type": "code",
      "metadata": {
        "id": "4i3dejowbuq9"
      },
      "source": [
        "#Removing stopwords from the comment\n",
        "comment_spam['Comment_Parsed_5'] = comment_spam['Comment_Parsed_4']\n",
        "\n",
        "for stop_word in stop_words:\n",
        "\n",
        "    regex_stopword = r\"\\b\" + stop_word + r\"\\b\"\n",
        "    comment_spam['Comment_Parsed_5'] = comment_spam['Comment_Parsed_4'].str.replace(regex_stopword, '')"
      ],
      "execution_count": 22,
      "outputs": []
    },
    {
      "cell_type": "code",
      "metadata": {
        "id": "NBHfExf1fGYn",
        "outputId": "7e50e197-a857-4672-be02-7831b15631e0",
        "colab": {
          "base_uri": "https://localhost:8080/",
          "height": 80
        }
      },
      "source": [
        "comment_spam.head(1)"
      ],
      "execution_count": 23,
      "outputs": [
        {
          "output_type": "execute_result",
          "data": {
            "text/html": [
              "<div>\n",
              "<style scoped>\n",
              "    .dataframe tbody tr th:only-of-type {\n",
              "        vertical-align: middle;\n",
              "    }\n",
              "\n",
              "    .dataframe tbody tr th {\n",
              "        vertical-align: top;\n",
              "    }\n",
              "\n",
              "    .dataframe thead th {\n",
              "        text-align: right;\n",
              "    }\n",
              "</style>\n",
              "<table border=\"1\" class=\"dataframe\">\n",
              "  <thead>\n",
              "    <tr style=\"text-align: right;\">\n",
              "      <th></th>\n",
              "      <th>No</th>\n",
              "      <th>Comment</th>\n",
              "      <th>Class</th>\n",
              "      <th>Comment_Parsed_1</th>\n",
              "      <th>Comment_Parsed_2</th>\n",
              "      <th>Comment_Parsed_3</th>\n",
              "      <th>Comment_Parsed_4</th>\n",
              "      <th>Comment_Parsed_5</th>\n",
              "    </tr>\n",
              "  </thead>\n",
              "  <tbody>\n",
              "    <tr>\n",
              "      <th>0</th>\n",
              "      <td>1</td>\n",
              "      <td>this song is racist</td>\n",
              "      <td>0</td>\n",
              "      <td>this song is racist</td>\n",
              "      <td>this song is racist</td>\n",
              "      <td>this song is racist</td>\n",
              "      <td>this song be racist</td>\n",
              "      <td>this song be racist</td>\n",
              "    </tr>\n",
              "  </tbody>\n",
              "</table>\n",
              "</div>"
            ],
            "text/plain": [
              "   No              Comment  ...     Comment_Parsed_4     Comment_Parsed_5\n",
              "0   1  this song is racist  ...  this song be racist  this song be racist\n",
              "\n",
              "[1 rows x 8 columns]"
            ]
          },
          "metadata": {
            "tags": []
          },
          "execution_count": 23
        }
      ]
    },
    {
      "cell_type": "code",
      "metadata": {
        "id": "FcxFkinWfGW0"
      },
      "source": [
        "list_columns = ['Comment', 'Class', 'Comment_Parsed_5']\n",
        "comment_spam = comment_spam[list_columns]\n",
        "\n",
        "comment_spam = comment_spam.rename(columns={'Comment_Parsed_5': 'comment_parsed'})"
      ],
      "execution_count": 24,
      "outputs": []
    },
    {
      "cell_type": "code",
      "metadata": {
        "id": "4JfW0VwmfGUT",
        "outputId": "c10f100b-e8ec-4dc6-a8a4-2fe3adbd1e76",
        "colab": {
          "base_uri": "https://localhost:8080/",
          "height": 204
        }
      },
      "source": [
        "comment_spam.head()"
      ],
      "execution_count": 25,
      "outputs": [
        {
          "output_type": "execute_result",
          "data": {
            "text/html": [
              "<div>\n",
              "<style scoped>\n",
              "    .dataframe tbody tr th:only-of-type {\n",
              "        vertical-align: middle;\n",
              "    }\n",
              "\n",
              "    .dataframe tbody tr th {\n",
              "        vertical-align: top;\n",
              "    }\n",
              "\n",
              "    .dataframe thead th {\n",
              "        text-align: right;\n",
              "    }\n",
              "</style>\n",
              "<table border=\"1\" class=\"dataframe\">\n",
              "  <thead>\n",
              "    <tr style=\"text-align: right;\">\n",
              "      <th></th>\n",
              "      <th>Comment</th>\n",
              "      <th>Class</th>\n",
              "      <th>comment_parsed</th>\n",
              "    </tr>\n",
              "  </thead>\n",
              "  <tbody>\n",
              "    <tr>\n",
              "      <th>0</th>\n",
              "      <td>this song is racist</td>\n",
              "      <td>0</td>\n",
              "      <td>this song be racist</td>\n",
              "    </tr>\n",
              "    <tr>\n",
              "      <th>1</th>\n",
              "      <td>and how many subscribers compared to her over ...</td>\n",
              "      <td>1</td>\n",
              "      <td>and how many subscribers compare to her over a...</td>\n",
              "    </tr>\n",
              "    <tr>\n",
              "      <th>2</th>\n",
              "      <td>HI! CHECK OUT OUR AWESOME COVERS! AND SAY WHAT...</td>\n",
              "      <td>1</td>\n",
              "      <td>hi check out our awesome cover and say what yo...</td>\n",
              "    </tr>\n",
              "    <tr>\n",
              "      <th>3</th>\n",
              "      <td>well done shakira</td>\n",
              "      <td>0</td>\n",
              "      <td>well do shakira</td>\n",
              "    </tr>\n",
              "    <tr>\n",
              "      <th>4</th>\n",
              "      <td>:D subscribe to me for daily vines</td>\n",
              "      <td>1</td>\n",
              "      <td>d subscribe to me for daily vines</td>\n",
              "    </tr>\n",
              "  </tbody>\n",
              "</table>\n",
              "</div>"
            ],
            "text/plain": [
              "                                             Comment  ...                                     comment_parsed\n",
              "0                                this song is racist  ...                                this song be racist\n",
              "1  and how many subscribers compared to her over ...  ...  and how many subscribers compare to her over a...\n",
              "2  HI! CHECK OUT OUR AWESOME COVERS! AND SAY WHAT...  ...  hi check out our awesome cover and say what yo...\n",
              "3                                  well done shakira  ...                                    well do shakira\n",
              "4                 :D subscribe to me for daily vines  ...                  d subscribe to me for daily vines\n",
              "\n",
              "[5 rows x 3 columns]"
            ]
          },
          "metadata": {
            "tags": []
          },
          "execution_count": 25
        }
      ]
    },
    {
      "cell_type": "code",
      "metadata": {
        "id": "ngoZ6pT4AzX0",
        "outputId": "28c379fb-4cbe-4d77-b570-9d7b903de983",
        "colab": {
          "base_uri": "https://localhost:8080/",
          "height": 68
        }
      },
      "source": [
        "comment_spam['Class'].value_counts()"
      ],
      "execution_count": 26,
      "outputs": [
        {
          "output_type": "execute_result",
          "data": {
            "text/plain": [
              "1    669\n",
              "0    631\n",
              "Name: Class, dtype: int64"
            ]
          },
          "metadata": {
            "tags": []
          },
          "execution_count": 26
        }
      ]
    },
    {
      "cell_type": "markdown",
      "metadata": {
        "id": "E8J0ZBrpI3hf"
      },
      "source": [
        "## Splitting The Dataset"
      ]
    },
    {
      "cell_type": "code",
      "metadata": {
        "id": "gz3ccN5zDD7i"
      },
      "source": [
        "X_train, X_test, y_train, y_test = train_test_split(comment_spam['comment_parsed'], \n",
        "                                                    comment_spam['Class'], \n",
        "                                                    test_size=0.2, \n",
        "                                                    random_state=0)"
      ],
      "execution_count": 27,
      "outputs": []
    },
    {
      "cell_type": "code",
      "metadata": {
        "id": "IoX1kXfZJDxw"
      },
      "source": [
        "# Parameter election\n",
        "ngram_range = (1,2)\n",
        "min_df = 10\n",
        "max_df = 1.\n",
        "max_features = 300"
      ],
      "execution_count": 28,
      "outputs": []
    },
    {
      "cell_type": "code",
      "metadata": {
        "id": "lDeQzY3ONkL3",
        "outputId": "71ca5a9d-858d-405f-cd49-3587f11e4cf7",
        "colab": {
          "base_uri": "https://localhost:8080/",
          "height": 51
        }
      },
      "source": [
        "tfidf = TfidfVectorizer(encoding='utf-8',\n",
        "                        ngram_range=ngram_range,\n",
        "                        stop_words=None,\n",
        "                        lowercase=False,\n",
        "                        max_df=max_df,\n",
        "                        min_df=min_df,\n",
        "                        max_features=max_features,\n",
        "                        norm='l2',\n",
        "                        sublinear_tf=True)\n",
        "                        \n",
        "features_train = tfidf.fit_transform(X_train).toarray()\n",
        "labels_train = y_train\n",
        "print(features_train.shape)\n",
        "\n",
        "features_test = tfidf.transform(X_test).toarray()\n",
        "labels_test = y_test\n",
        "print(features_test.shape)\n"
      ],
      "execution_count": 29,
      "outputs": [
        {
          "output_type": "stream",
          "text": [
            "(1040, 300)\n",
            "(260, 300)\n"
          ],
          "name": "stdout"
        }
      ]
    },
    {
      "cell_type": "markdown",
      "metadata": {
        "id": "BcCl4nkukgYt"
      },
      "source": [
        "# Building Machine Learning Model"
      ]
    },
    {
      "cell_type": "markdown",
      "metadata": {
        "id": "hFZk3EFekg4P"
      },
      "source": [
        "# Naive Bayes"
      ]
    },
    {
      "cell_type": "markdown",
      "metadata": {
        "id": "L5pOT5CVkgRP"
      },
      "source": [
        "## Training Naive Bayes Model on Training Set Data"
      ]
    },
    {
      "cell_type": "code",
      "metadata": {
        "id": "Imga-wUb0_7Q",
        "outputId": "cc12cf63-78fc-4f52-9f87-2434ff563451",
        "colab": {
          "base_uri": "https://localhost:8080/",
          "height": 34
        }
      },
      "source": [
        "#Naive Bayes\n",
        "from sklearn.naive_bayes import GaussianNB\n",
        "classifier = GaussianNB()\n",
        "classifier.fit(features_train, labels_train)"
      ],
      "execution_count": 30,
      "outputs": [
        {
          "output_type": "execute_result",
          "data": {
            "text/plain": [
              "GaussianNB(priors=None, var_smoothing=1e-09)"
            ]
          },
          "metadata": {
            "tags": []
          },
          "execution_count": 30
        }
      ]
    },
    {
      "cell_type": "markdown",
      "metadata": {
        "id": "hEGz6EVKlEKF"
      },
      "source": [
        "## Predicting The Test Result"
      ]
    },
    {
      "cell_type": "code",
      "metadata": {
        "id": "r6_MNyfR1Aia",
        "outputId": "8ae289f3-a9f6-41b8-e17e-3089037d168c",
        "colab": {
          "base_uri": "https://localhost:8080/",
          "height": 221
        }
      },
      "source": [
        "labels_pred = classifier.predict(features_test)\n",
        "labels_pred"
      ],
      "execution_count": 31,
      "outputs": [
        {
          "output_type": "execute_result",
          "data": {
            "text/plain": [
              "array([0, 1, 0, 0, 1, 0, 0, 1, 1, 1, 0, 1, 0, 0, 0, 1, 0, 0, 0, 0, 0, 0,\n",
              "       0, 1, 0, 1, 0, 0, 1, 1, 0, 0, 0, 1, 1, 0, 0, 0, 1, 0, 1, 0, 0, 0,\n",
              "       0, 0, 0, 0, 0, 1, 1, 0, 1, 0, 0, 0, 0, 0, 0, 0, 0, 0, 1, 0, 0, 1,\n",
              "       0, 1, 1, 0, 0, 0, 1, 0, 1, 0, 1, 0, 0, 1, 0, 1, 1, 0, 0, 0, 1, 1,\n",
              "       0, 1, 1, 1, 1, 1, 1, 1, 1, 1, 1, 0, 0, 0, 0, 0, 1, 0, 0, 0, 0, 0,\n",
              "       1, 0, 1, 0, 0, 0, 0, 0, 1, 1, 0, 0, 1, 1, 0, 1, 0, 1, 0, 0, 1, 1,\n",
              "       0, 1, 1, 0, 0, 0, 0, 1, 1, 0, 1, 1, 0, 0, 1, 0, 1, 1, 0, 0, 1, 0,\n",
              "       1, 1, 0, 1, 0, 1, 0, 1, 0, 0, 1, 0, 1, 0, 0, 0, 0, 0, 0, 0, 1, 0,\n",
              "       0, 1, 1, 0, 0, 0, 0, 1, 0, 0, 0, 1, 0, 0, 1, 1, 1, 1, 0, 0, 1, 1,\n",
              "       1, 1, 1, 0, 1, 0, 1, 1, 0, 0, 1, 0, 1, 0, 0, 1, 1, 0, 0, 1, 1, 1,\n",
              "       0, 0, 1, 0, 0, 0, 0, 1, 1, 0, 0, 0, 0, 0, 0, 0, 0, 0, 1, 1, 1, 0,\n",
              "       1, 1, 1, 0, 0, 1, 1, 0, 0, 1, 0, 0, 0, 1, 1, 1, 0, 0])"
            ]
          },
          "metadata": {
            "tags": []
          },
          "execution_count": 31
        }
      ]
    },
    {
      "cell_type": "markdown",
      "metadata": {
        "id": "fjyMZ9V2lW-W"
      },
      "source": [
        "## Evaluation Metrics"
      ]
    },
    {
      "cell_type": "code",
      "metadata": {
        "id": "aQUdlU-c1Az4",
        "outputId": "c33d7645-e962-4029-8996-92f661a5be51",
        "colab": {
          "base_uri": "https://localhost:8080/",
          "height": 51
        }
      },
      "source": [
        "#Test accuracy\n",
        "from sklearn.metrics import accuracy_score, classification_report, confusion_matrix\n",
        "print(\"The test accuracy is: \")\n",
        "print(accuracy_score(labels_test, labels_pred))"
      ],
      "execution_count": 32,
      "outputs": [
        {
          "output_type": "stream",
          "text": [
            "The test accuracy is: \n",
            "0.8961538461538462\n"
          ],
          "name": "stdout"
        }
      ]
    },
    {
      "cell_type": "code",
      "metadata": {
        "id": "8AlRkbNqljKo",
        "outputId": "e4d1c2cb-b002-45e6-9f29-1e52e7b3c856",
        "colab": {
          "base_uri": "https://localhost:8080/",
          "height": 187
        }
      },
      "source": [
        "#Classification Report\n",
        "print('Classification Report')\n",
        "print(classification_report(labels_test, labels_pred))"
      ],
      "execution_count": 33,
      "outputs": [
        {
          "output_type": "stream",
          "text": [
            "Classification Report\n",
            "              precision    recall  f1-score   support\n",
            "\n",
            "           0       0.86      0.96      0.91       136\n",
            "           1       0.95      0.82      0.88       124\n",
            "\n",
            "    accuracy                           0.90       260\n",
            "   macro avg       0.90      0.89      0.89       260\n",
            "weighted avg       0.90      0.90      0.90       260\n",
            "\n"
          ],
          "name": "stdout"
        }
      ]
    },
    {
      "cell_type": "code",
      "metadata": {
        "id": "teQQFERYljZL",
        "outputId": "c68f13de-60b2-4dab-c94d-167c3445ea44",
        "colab": {
          "base_uri": "https://localhost:8080/",
          "height": 404
        }
      },
      "source": [
        "#Confusion Matrix Visualization\n",
        "aux_comment_spam = comment_spam[['Class']].drop_duplicates().sort_values('Class')\n",
        "cm = confusion_matrix(labels_test, labels_pred)\n",
        "plt.figure(figsize=(12.8,6))\n",
        "sns.heatmap(cm, \n",
        "            annot=True,\n",
        "            xticklabels=aux_comment_spam['Class'].values, \n",
        "            yticklabels=aux_comment_spam['Class'].values,\n",
        "            cmap=\"Greens\")\n",
        "plt.ylabel('Predicted')\n",
        "plt.xlabel('Actual')\n",
        "plt.title('Confusion matrix')\n",
        "plt.show()"
      ],
      "execution_count": 34,
      "outputs": [
        {
          "output_type": "display_data",
          "data": {
            "image/png": "[encoded data removed]",
            "text/plain": [
              "<Figure size 921.6x432 with 2 Axes>"
            ]
          },
          "metadata": {
            "tags": [],
            "needs_background": "light"
          }
        }
      ]
    },
    {
      "cell_type": "markdown",
      "metadata": {
        "id": "r6nvBvuznEkG"
      },
      "source": [
        "## Applying k-fold Cross Valiidation"
      ]
    },
    {
      "cell_type": "code",
      "metadata": {
        "id": "cEZTaYuUlkKP",
        "outputId": "02b28a7e-dbe6-4e12-cdb5-b73947eb34fd",
        "colab": {
          "base_uri": "https://localhost:8080/",
          "height": 51
        }
      },
      "source": [
        "from sklearn.model_selection import cross_val_score\n",
        "accuracies = cross_val_score(estimator = classifier, X = features_train, y = labels_train, cv = 10)\n",
        "print(\"Accuracy: {:.2f} %\".format(accuracies.mean()*100))\n",
        "print(\"Standard Deviation: {:.2f} %\".format(accuracies.std()*100))"
      ],
      "execution_count": 35,
      "outputs": [
        {
          "output_type": "stream",
          "text": [
            "Accuracy: 88.37 %\n",
            "Standard Deviation: 2.70 %\n"
          ],
          "name": "stdout"
        }
      ]
    },
    {
      "cell_type": "markdown",
      "metadata": {
        "id": "12oZm45ongtU"
      },
      "source": [
        "# Decision Tree"
      ]
    },
    {
      "cell_type": "markdown",
      "metadata": {
        "id": "GKvu9gmWn6ak"
      },
      "source": [
        "## Training Decision Tree Model on Training Set Data"
      ]
    },
    {
      "cell_type": "code",
      "metadata": {
        "id": "a1DF60NxRz4I",
        "outputId": "cb1e2cfb-7e7d-492f-810d-ec8488e2f442",
        "colab": {
          "base_uri": "https://localhost:8080/",
          "height": 119
        }
      },
      "source": [
        "#Decision Tree Model\n",
        "from sklearn.tree import DecisionTreeClassifier\n",
        "decision_tree_class = DecisionTreeClassifier(criterion = 'entropy', random_state = 0)\n",
        "decision_tree_class.fit(features_train, labels_train)"
      ],
      "execution_count": 36,
      "outputs": [
        {
          "output_type": "execute_result",
          "data": {
            "text/plain": [
              "DecisionTreeClassifier(ccp_alpha=0.0, class_weight=None, criterion='entropy',\n",
              "                       max_depth=None, max_features=None, max_leaf_nodes=None,\n",
              "                       min_impurity_decrease=0.0, min_impurity_split=None,\n",
              "                       min_samples_leaf=1, min_samples_split=2,\n",
              "                       min_weight_fraction_leaf=0.0, presort='deprecated',\n",
              "                       random_state=0, splitter='best')"
            ]
          },
          "metadata": {
            "tags": []
          },
          "execution_count": 36
        }
      ]
    },
    {
      "cell_type": "markdown",
      "metadata": {
        "id": "6Wcg7Ks0p4d8"
      },
      "source": [
        "## Predicting The Test Result"
      ]
    },
    {
      "cell_type": "code",
      "metadata": {
        "id": "HVlwbXfbqfLA",
        "outputId": "2e067e57-4035-4424-eb90-b78be0c863c4",
        "colab": {
          "base_uri": "https://localhost:8080/",
          "height": 221
        }
      },
      "source": [
        "labels_pred_decisiontree = decision_tree_class.predict(features_test)\n",
        "labels_pred_decisiontree"
      ],
      "execution_count": 37,
      "outputs": [
        {
          "output_type": "execute_result",
          "data": {
            "text/plain": [
              "array([0, 1, 0, 1, 1, 0, 1, 1, 0, 1, 0, 1, 0, 0, 0, 1, 1, 0, 0, 0, 0, 0,\n",
              "       0, 1, 0, 1, 0, 0, 1, 1, 0, 0, 1, 1, 1, 0, 0, 0, 1, 0, 1, 0, 1, 0,\n",
              "       0, 0, 0, 0, 0, 1, 1, 0, 1, 1, 0, 0, 1, 0, 0, 0, 0, 0, 1, 0, 0, 1,\n",
              "       0, 1, 1, 0, 0, 0, 1, 0, 1, 1, 1, 0, 0, 1, 0, 0, 0, 0, 0, 0, 1, 0,\n",
              "       0, 1, 1, 1, 1, 0, 1, 1, 1, 1, 1, 0, 0, 0, 0, 0, 1, 1, 0, 0, 0, 0,\n",
              "       1, 0, 1, 0, 1, 0, 0, 0, 1, 1, 0, 0, 1, 1, 0, 1, 0, 1, 0, 0, 1, 1,\n",
              "       0, 1, 1, 0, 0, 0, 0, 1, 1, 1, 1, 1, 0, 0, 1, 0, 1, 1, 1, 0, 1, 0,\n",
              "       1, 1, 1, 1, 0, 1, 0, 1, 0, 0, 1, 0, 0, 0, 0, 0, 0, 0, 0, 0, 1, 0,\n",
              "       0, 1, 1, 0, 0, 1, 0, 1, 1, 1, 0, 1, 0, 0, 1, 1, 1, 1, 1, 0, 1, 0,\n",
              "       1, 1, 1, 0, 1, 0, 1, 1, 0, 0, 1, 0, 1, 0, 0, 1, 1, 0, 0, 1, 1, 0,\n",
              "       0, 0, 1, 1, 0, 0, 0, 1, 1, 0, 1, 0, 0, 0, 0, 0, 0, 0, 1, 1, 1, 0,\n",
              "       1, 0, 1, 0, 0, 1, 1, 0, 0, 0, 0, 1, 1, 1, 1, 1, 1, 0])"
            ]
          },
          "metadata": {
            "tags": []
          },
          "execution_count": 37
        }
      ]
    },
    {
      "cell_type": "markdown",
      "metadata": {
        "id": "Gg4TkrUmqsev"
      },
      "source": [
        "##Evaluation metrics"
      ]
    },
    {
      "cell_type": "code",
      "metadata": {
        "id": "3aQaaGH_UlCt",
        "outputId": "ed5b482b-aac2-4305-d3e1-460d6c61dee4",
        "colab": {
          "base_uri": "https://localhost:8080/",
          "height": 51
        }
      },
      "source": [
        "#Test Accuracy\n",
        "print(\"The test accuracy is: \")\n",
        "print(accuracy_score(labels_test, labels_pred_decisiontree))"
      ],
      "execution_count": 38,
      "outputs": [
        {
          "output_type": "stream",
          "text": [
            "The test accuracy is: \n",
            "0.9192307692307692\n"
          ],
          "name": "stdout"
        }
      ]
    },
    {
      "cell_type": "code",
      "metadata": {
        "id": "DXRwhfnLq6tm",
        "outputId": "9dfac409-d178-457f-99ab-cd58f4cc5c26",
        "colab": {
          "base_uri": "https://localhost:8080/",
          "height": 187
        }
      },
      "source": [
        "#Classification Report\n",
        "print('Classification Report')\n",
        "print(classification_report(labels_test, labels_pred_decisiontree))"
      ],
      "execution_count": 39,
      "outputs": [
        {
          "output_type": "stream",
          "text": [
            "Classification Report\n",
            "              precision    recall  f1-score   support\n",
            "\n",
            "           0       0.91      0.94      0.92       136\n",
            "           1       0.93      0.90      0.91       124\n",
            "\n",
            "    accuracy                           0.92       260\n",
            "   macro avg       0.92      0.92      0.92       260\n",
            "weighted avg       0.92      0.92      0.92       260\n",
            "\n"
          ],
          "name": "stdout"
        }
      ]
    },
    {
      "cell_type": "code",
      "metadata": {
        "id": "RLhnZxMzrI5H",
        "outputId": "b19ba9ee-e0a6-4206-9a48-9a250439379d",
        "colab": {
          "base_uri": "https://localhost:8080/",
          "height": 404
        }
      },
      "source": [
        "#Confusion Matrix Visualization\n",
        "aux_comment_spam = comment_spam[['Class']].drop_duplicates().sort_values('Class')\n",
        "cm_dectree = confusion_matrix(labels_test, labels_pred_decisiontree)\n",
        "plt.figure(figsize=(12.8,6))\n",
        "sns.heatmap(cm, \n",
        "            annot=True,\n",
        "            xticklabels=aux_comment_spam['Class'].values, \n",
        "            yticklabels=aux_comment_spam['Class'].values,\n",
        "            cmap=\"Greens\")\n",
        "plt.ylabel('Predicted')\n",
        "plt.xlabel('Actual')\n",
        "plt.title('Confusion matrix')\n",
        "plt.show()"
      ],
      "execution_count": 40,
      "outputs": [
        {
          "output_type": "display_data",
          "data": {
            "image/png": "[encoded data removed]",
            "text/plain": [
              "<Figure size 921.6x432 with 2 Axes>"
            ]
          },
          "metadata": {
            "tags": [],
            "needs_background": "light"
          }
        }
      ]
    },
    {
      "cell_type": "markdown",
      "metadata": {
        "id": "3kbc7c2QrUBf"
      },
      "source": [
        "## Applying k-fold Cross Validation"
      ]
    },
    {
      "cell_type": "code",
      "metadata": {
        "id": "IbEzJi_kWMWc",
        "outputId": "5b3f9fe8-efc7-467d-c6f7-1a09b83b2431",
        "colab": {
          "base_uri": "https://localhost:8080/",
          "height": 51
        }
      },
      "source": [
        "from sklearn.model_selection import cross_val_score\n",
        "accuracies = cross_val_score(estimator = decision_tree_class, X = features_train, y = labels_train, cv = 10)\n",
        "print(\"Accuracy: {:.2f} %\".format(accuracies.mean()*100))\n",
        "print(\"Standard Deviation: {:.2f} %\".format(accuracies.std()*100))"
      ],
      "execution_count": 41,
      "outputs": [
        {
          "output_type": "stream",
          "text": [
            "Accuracy: 92.60 %\n",
            "Standard Deviation: 3.13 %\n"
          ],
          "name": "stdout"
        }
      ]
    },
    {
      "cell_type": "markdown",
      "metadata": {
        "id": "D-2ARIFRrmXK"
      },
      "source": [
        "# Random Forest"
      ]
    },
    {
      "cell_type": "markdown",
      "metadata": {
        "id": "oJUpNGE6rmS7"
      },
      "source": [
        "## Training Random Forest Model on Training Set Data"
      ]
    },
    {
      "cell_type": "code",
      "metadata": {
        "id": "PWFL4haHWXZj",
        "outputId": "ca9e5f1b-005e-4637-88df-e916f0ea6284",
        "colab": {
          "base_uri": "https://localhost:8080/",
          "height": 153
        }
      },
      "source": [
        "#Random Forest Classsifier\n",
        "from sklearn.ensemble import RandomForestClassifier\n",
        "random_forest_class = RandomForestClassifier(n_estimators = 100, criterion = 'entropy', random_state = 0)\n",
        "random_forest_class.fit(features_train, labels_train)"
      ],
      "execution_count": 42,
      "outputs": [
        {
          "output_type": "execute_result",
          "data": {
            "text/plain": [
              "RandomForestClassifier(bootstrap=True, ccp_alpha=0.0, class_weight=None,\n",
              "                       criterion='entropy', max_depth=None, max_features='auto',\n",
              "                       max_leaf_nodes=None, max_samples=None,\n",
              "                       min_impurity_decrease=0.0, min_impurity_split=None,\n",
              "                       min_samples_leaf=1, min_samples_split=2,\n",
              "                       min_weight_fraction_leaf=0.0, n_estimators=100,\n",
              "                       n_jobs=None, oob_score=False, random_state=0, verbose=0,\n",
              "                       warm_start=False)"
            ]
          },
          "metadata": {
            "tags": []
          },
          "execution_count": 42
        }
      ]
    },
    {
      "cell_type": "markdown",
      "metadata": {
        "id": "jEO1lDaKs2cw"
      },
      "source": [
        "## Predicting The Test Result"
      ]
    },
    {
      "cell_type": "code",
      "metadata": {
        "id": "hgKk9aHqtNIo",
        "outputId": "e2f0938d-6658-41c5-8cd5-400a279c6f63",
        "colab": {
          "base_uri": "https://localhost:8080/",
          "height": 221
        }
      },
      "source": [
        "labels_pred_rdf = random_forest_class.predict(features_test)\n",
        "labels_pred_rdf"
      ],
      "execution_count": 43,
      "outputs": [
        {
          "output_type": "execute_result",
          "data": {
            "text/plain": [
              "array([0, 1, 0, 1, 1, 0, 0, 1, 0, 1, 0, 1, 0, 0, 0, 1, 0, 0, 0, 1, 0, 0,\n",
              "       0, 1, 0, 1, 0, 0, 1, 1, 0, 0, 1, 1, 1, 0, 0, 0, 1, 0, 1, 0, 1, 0,\n",
              "       0, 0, 0, 0, 0, 1, 1, 0, 1, 0, 0, 1, 1, 0, 0, 0, 0, 0, 1, 0, 0, 1,\n",
              "       0, 1, 1, 0, 0, 0, 1, 0, 1, 1, 1, 0, 0, 1, 0, 0, 1, 0, 0, 0, 0, 1,\n",
              "       0, 1, 1, 1, 1, 0, 1, 1, 1, 1, 1, 0, 0, 0, 0, 0, 1, 0, 0, 0, 0, 0,\n",
              "       1, 0, 1, 0, 1, 0, 1, 0, 1, 1, 0, 0, 1, 1, 0, 1, 0, 1, 0, 0, 1, 1,\n",
              "       0, 1, 1, 0, 0, 0, 0, 1, 1, 1, 1, 1, 0, 0, 1, 0, 1, 1, 1, 0, 1, 0,\n",
              "       1, 1, 0, 1, 0, 1, 0, 1, 0, 0, 1, 0, 0, 0, 0, 0, 0, 0, 0, 0, 1, 0,\n",
              "       0, 1, 1, 0, 0, 1, 0, 1, 1, 1, 0, 1, 0, 0, 1, 1, 1, 1, 1, 0, 1, 1,\n",
              "       1, 1, 1, 0, 1, 0, 1, 1, 0, 0, 1, 0, 1, 0, 0, 1, 1, 0, 0, 1, 1, 1,\n",
              "       0, 0, 1, 1, 0, 0, 0, 1, 1, 0, 1, 0, 0, 0, 0, 0, 0, 0, 1, 1, 1, 0,\n",
              "       1, 0, 1, 0, 0, 1, 1, 0, 0, 0, 0, 1, 0, 1, 1, 0, 0, 0])"
            ]
          },
          "metadata": {
            "tags": []
          },
          "execution_count": 43
        }
      ]
    },
    {
      "cell_type": "markdown",
      "metadata": {
        "id": "iIzkyvmNtSWU"
      },
      "source": [
        "## Evaluation Metrics"
      ]
    },
    {
      "cell_type": "code",
      "metadata": {
        "id": "00T70NZhZ0QC",
        "outputId": "da1dd24e-11b4-4c90-c27d-8981ca74937c",
        "colab": {
          "base_uri": "https://localhost:8080/",
          "height": 51
        }
      },
      "source": [
        "#Test Accuracy\n",
        "print(\"The test accuracy is: \")\n",
        "print(accuracy_score(labels_test, labels_pred_rdf))"
      ],
      "execution_count": 44,
      "outputs": [
        {
          "output_type": "stream",
          "text": [
            "The test accuracy is: \n",
            "0.95\n"
          ],
          "name": "stdout"
        }
      ]
    },
    {
      "cell_type": "code",
      "metadata": {
        "id": "nisQZ1Fztngw",
        "outputId": "3ab5be16-8ea0-4bbc-c6ba-57c384c76fd0",
        "colab": {
          "base_uri": "https://localhost:8080/",
          "height": 187
        }
      },
      "source": [
        "#Classification Report\n",
        "print('Classification Report')\n",
        "print(classification_report(labels_test, labels_pred_decisiontree))"
      ],
      "execution_count": 45,
      "outputs": [
        {
          "output_type": "stream",
          "text": [
            "Classification Report\n",
            "              precision    recall  f1-score   support\n",
            "\n",
            "           0       0.91      0.94      0.92       136\n",
            "           1       0.93      0.90      0.91       124\n",
            "\n",
            "    accuracy                           0.92       260\n",
            "   macro avg       0.92      0.92      0.92       260\n",
            "weighted avg       0.92      0.92      0.92       260\n",
            "\n"
          ],
          "name": "stdout"
        }
      ]
    },
    {
      "cell_type": "code",
      "metadata": {
        "id": "5D7H5BentndS",
        "outputId": "c46bca9f-8498-4805-eaee-b6bd5103ec1d",
        "colab": {
          "base_uri": "https://localhost:8080/",
          "height": 404
        }
      },
      "source": [
        "#Confusion Matrix Visualization\n",
        "aux_comment_spam = comment_spam[['Class']].drop_duplicates().sort_values('Class')\n",
        "cm_rdf = confusion_matrix(labels_test, labels_pred_rdf)\n",
        "plt.figure(figsize=(12.8,6))\n",
        "sns.heatmap(cm, \n",
        "            annot=True,\n",
        "            xticklabels=aux_comment_spam['Class'].values, \n",
        "            yticklabels=aux_comment_spam['Class'].values,\n",
        "            cmap=\"Greens\")\n",
        "plt.ylabel('Predicted')\n",
        "plt.xlabel('Actual')\n",
        "plt.title('Confusion matrix')\n",
        "plt.show()"
      ],
      "execution_count": 46,
      "outputs": [
        {
          "output_type": "display_data",
          "data": {
            "image/png": "[encoded data removed]",
            "text/plain": [
              "<Figure size 921.6x432 with 2 Axes>"
            ]
          },
          "metadata": {
            "tags": [],
            "needs_background": "light"
          }
        }
      ]
    },
    {
      "cell_type": "markdown",
      "metadata": {
        "id": "HIsBOX_VuT_K"
      },
      "source": [
        "## Applying k-fold Cross Validation"
      ]
    },
    {
      "cell_type": "code",
      "metadata": {
        "id": "kcsHl9TntnXt",
        "outputId": "45058912-10e1-4e1c-c170-2adf369cd2cd",
        "colab": {
          "base_uri": "https://localhost:8080/",
          "height": 51
        }
      },
      "source": [
        "from sklearn.model_selection import cross_val_score\n",
        "accuracies = cross_val_score(estimator = random_forest_class, X = features_train, y = labels_train, cv = 10)\n",
        "print(\"Accuracy: {:.2f} %\".format(accuracies.mean()*100))\n",
        "print(\"Standard Deviation: {:.2f} %\".format(accuracies.std()*100))"
      ],
      "execution_count": 47,
      "outputs": [
        {
          "output_type": "stream",
          "text": [
            "Accuracy: 94.42 %\n",
            "Standard Deviation: 2.78 %\n"
          ],
          "name": "stdout"
        }
      ]
    },
    {
      "cell_type": "markdown",
      "metadata": {
        "id": "84DFCBBtu0rB"
      },
      "source": [
        "# Logistic Regression"
      ]
    },
    {
      "cell_type": "markdown",
      "metadata": {
        "id": "C8cup4zlvHTK"
      },
      "source": [
        "## Training Logistic Regression Model on Training Set Data"
      ]
    },
    {
      "cell_type": "code",
      "metadata": {
        "id": "f6p1UlnZZ_85",
        "outputId": "790df53e-8490-4592-fcb2-8ecd0190d354",
        "colab": {
          "base_uri": "https://localhost:8080/",
          "height": 102
        }
      },
      "source": [
        "#Logistic Regression Model\n",
        "from sklearn.linear_model import LogisticRegression\n",
        "log_reg = LogisticRegression(random_state = 0)\n",
        "log_reg.fit(features_train, labels_train)"
      ],
      "execution_count": 48,
      "outputs": [
        {
          "output_type": "execute_result",
          "data": {
            "text/plain": [
              "LogisticRegression(C=1.0, class_weight=None, dual=False, fit_intercept=True,\n",
              "                   intercept_scaling=1, l1_ratio=None, max_iter=100,\n",
              "                   multi_class='auto', n_jobs=None, penalty='l2',\n",
              "                   random_state=0, solver='lbfgs', tol=0.0001, verbose=0,\n",
              "                   warm_start=False)"
            ]
          },
          "metadata": {
            "tags": []
          },
          "execution_count": 48
        }
      ]
    },
    {
      "cell_type": "markdown",
      "metadata": {
        "id": "x_JtlAMkvVf1"
      },
      "source": [
        "## Predict The Test Result"
      ]
    },
    {
      "cell_type": "code",
      "metadata": {
        "id": "eJxMvF0IbDr1",
        "outputId": "badc2047-13b4-489d-8f02-b3232c836069",
        "colab": {
          "base_uri": "https://localhost:8080/",
          "height": 221
        }
      },
      "source": [
        "labels_pred_log = log_reg.predict(features_test)\n",
        "labels_pred_log"
      ],
      "execution_count": 49,
      "outputs": [
        {
          "output_type": "execute_result",
          "data": {
            "text/plain": [
              "array([0, 1, 0, 1, 1, 0, 0, 1, 0, 1, 0, 1, 0, 0, 0, 1, 0, 0, 0, 1, 0, 0,\n",
              "       0, 1, 0, 1, 0, 0, 1, 1, 0, 0, 1, 1, 1, 0, 0, 0, 1, 0, 1, 0, 1, 0,\n",
              "       0, 0, 0, 0, 0, 1, 1, 0, 1, 0, 0, 1, 1, 0, 0, 0, 0, 0, 1, 0, 0, 1,\n",
              "       1, 1, 1, 0, 0, 0, 1, 1, 1, 1, 1, 0, 0, 1, 0, 1, 1, 0, 0, 0, 0, 1,\n",
              "       0, 1, 1, 1, 1, 0, 1, 1, 1, 0, 1, 0, 0, 0, 0, 0, 1, 0, 0, 0, 0, 0,\n",
              "       1, 0, 1, 0, 1, 0, 1, 0, 1, 1, 0, 0, 1, 1, 0, 1, 0, 1, 0, 0, 1, 1,\n",
              "       0, 1, 1, 0, 0, 0, 0, 1, 1, 1, 1, 1, 0, 0, 1, 0, 1, 1, 1, 0, 1, 1,\n",
              "       1, 1, 0, 1, 0, 1, 0, 1, 0, 0, 1, 0, 0, 0, 0, 0, 0, 0, 0, 0, 1, 0,\n",
              "       0, 1, 1, 0, 0, 1, 0, 1, 0, 1, 0, 1, 0, 0, 1, 1, 1, 1, 1, 0, 1, 1,\n",
              "       1, 1, 1, 0, 1, 0, 1, 1, 0, 0, 1, 0, 1, 0, 0, 1, 1, 0, 0, 1, 1, 0,\n",
              "       0, 0, 0, 1, 0, 0, 0, 1, 1, 0, 1, 0, 0, 0, 0, 0, 0, 0, 1, 1, 1, 0,\n",
              "       1, 0, 1, 0, 0, 1, 0, 0, 0, 0, 0, 1, 0, 1, 0, 0, 1, 0])"
            ]
          },
          "metadata": {
            "tags": []
          },
          "execution_count": 49
        }
      ]
    },
    {
      "cell_type": "markdown",
      "metadata": {
        "id": "8Wff_xiDvsAr"
      },
      "source": [
        "##Evaluation Metrics"
      ]
    },
    {
      "cell_type": "code",
      "metadata": {
        "id": "SrLR06BPavTC",
        "outputId": "e608e2c8-062a-411b-cff6-b67512b5e933",
        "colab": {
          "base_uri": "https://localhost:8080/",
          "height": 51
        }
      },
      "source": [
        "# Test accuracy\n",
        "print(\"The test accuracy is: \")\n",
        "accuracy_score(labels_test, labels_pred_log)"
      ],
      "execution_count": 50,
      "outputs": [
        {
          "output_type": "stream",
          "text": [
            "The test accuracy is: \n"
          ],
          "name": "stdout"
        },
        {
          "output_type": "execute_result",
          "data": {
            "text/plain": [
              "0.9307692307692308"
            ]
          },
          "metadata": {
            "tags": []
          },
          "execution_count": 50
        }
      ]
    },
    {
      "cell_type": "code",
      "metadata": {
        "id": "n4tocORCbduR",
        "outputId": "26c3a0b3-c4b9-4a31-b204-e9eb7a5afda5",
        "colab": {
          "base_uri": "https://localhost:8080/",
          "height": 187
        }
      },
      "source": [
        "#Classification Report\n",
        "print('Classification Report')\n",
        "print(classification_report(labels_test, labels_pred_log))"
      ],
      "execution_count": 51,
      "outputs": [
        {
          "output_type": "stream",
          "text": [
            "Classification Report\n",
            "              precision    recall  f1-score   support\n",
            "\n",
            "           0       0.91      0.96      0.94       136\n",
            "           1       0.96      0.90      0.93       124\n",
            "\n",
            "    accuracy                           0.93       260\n",
            "   macro avg       0.93      0.93      0.93       260\n",
            "weighted avg       0.93      0.93      0.93       260\n",
            "\n"
          ],
          "name": "stdout"
        }
      ]
    },
    {
      "cell_type": "code",
      "metadata": {
        "id": "r3xhPLLRwIhG",
        "outputId": "b7af92cb-0001-4e09-f835-7952fb18e732",
        "colab": {
          "base_uri": "https://localhost:8080/",
          "height": 404
        }
      },
      "source": [
        "#Confusion Matrix Visualization\n",
        "aux_comment_spam = comment_spam[['Class']].drop_duplicates().sort_values('Class')\n",
        "cm_log = confusion_matrix(labels_test, labels_pred_log)\n",
        "plt.figure(figsize=(12.8,6))\n",
        "sns.heatmap(cm, \n",
        "            annot=True,\n",
        "            xticklabels=aux_comment_spam['Class'].values, \n",
        "            yticklabels=aux_comment_spam['Class'].values,\n",
        "            cmap=\"Greens\")\n",
        "plt.ylabel('Predicted')\n",
        "plt.xlabel('Actual')\n",
        "plt.title('Confusion matrix')\n",
        "plt.show()"
      ],
      "execution_count": 52,
      "outputs": [
        {
          "output_type": "display_data",
          "data": {
            "image/png": "[encoded data removed]",
            "text/plain": [
              "<Figure size 921.6x432 with 2 Axes>"
            ]
          },
          "metadata": {
            "tags": [],
            "needs_background": "light"
          }
        }
      ]
    },
    {
      "cell_type": "markdown",
      "metadata": {
        "id": "qU4R9n4pwl4F"
      },
      "source": [
        "## Applying k-fold Cross Validation"
      ]
    },
    {
      "cell_type": "code",
      "metadata": {
        "id": "NnBlS4-cwTbz",
        "outputId": "8d7b5adc-7be4-4c77-d520-9a25c58b2b9e",
        "colab": {
          "base_uri": "https://localhost:8080/",
          "height": 51
        }
      },
      "source": [
        "from sklearn.model_selection import cross_val_score\n",
        "accuracies = cross_val_score(estimator = log_reg, X = features_train, y = labels_train, cv = 10)\n",
        "print(\"Accuracy: {:.2f} %\".format(accuracies.mean()*100))\n",
        "print(\"Standard Deviation: {:.2f} %\".format(accuracies.std()*100))"
      ],
      "execution_count": 53,
      "outputs": [
        {
          "output_type": "stream",
          "text": [
            "Accuracy: 94.23 %\n",
            "Standard Deviation: 2.36 %\n"
          ],
          "name": "stdout"
        }
      ]
    }
  ]
}